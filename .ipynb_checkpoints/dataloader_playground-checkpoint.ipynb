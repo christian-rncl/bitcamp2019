{
 "cells": [
  {
   "cell_type": "code",
   "execution_count": 1,
   "metadata": {},
   "outputs": [],
   "source": [
    "import pandas as pd\n",
    "import torch\n",
    "import os\n",
    "from dataset import DatasetFromFolder"
   ]
  },
  {
   "cell_type": "code",
   "execution_count": 2,
   "metadata": {},
   "outputs": [],
   "source": [
    "path = './data/debug/'"
   ]
  },
  {
   "cell_type": "code",
   "execution_count": 3,
   "metadata": {},
   "outputs": [
    {
     "data": {
      "text/plain": [
       "['on7.mp4_frames',\n",
       " 'on2.mp4_frames',\n",
       " 'on1.mp4_frames',\n",
       " 'on6.mp4_frames',\n",
       " 'on5.mp4_frames',\n",
       " 'on3.mp4_frames',\n",
       " '.DS_Store',\n",
       " 'on4.mp4_frames']"
      ]
     },
     "execution_count": 3,
     "metadata": {},
     "output_type": "execute_result"
    }
   ],
   "source": [
    "os.listdir(path)"
   ]
  },
  {
   "cell_type": "code",
   "execution_count": 4,
   "metadata": {},
   "outputs": [
    {
     "name": "stdout",
     "output_type": "stream",
     "text": [
      "['./data/debug/on7.mp4_frames/frame036.jpg', './data/debug/on7.mp4_frames/frame003.jpg', './data/debug/on7.mp4_frames/frame026.jpg', './data/debug/on7.mp4_frames/frame029.jpg', './data/debug/on7.mp4_frames/frame013.jpg', './data/debug/on7.mp4_frames/frame041.jpg', './data/debug/on7.mp4_frames/frame004.jpg', './data/debug/on7.mp4_frames/frame034.jpg', './data/debug/on7.mp4_frames/frame037.jpg', './data/debug/on7.mp4_frames/frame044.jpg', './data/debug/on7.mp4_frames/frame001.jpg', './data/debug/on7.mp4_frames/frame009.jpg', './data/debug/on7.mp4_frames/frame028.jpg', './data/debug/on7.mp4_frames/frame031.jpg', './data/debug/on7.mp4_frames/frame025.jpg', './data/debug/on7.mp4_frames/frame022.jpg', './data/debug/on7.mp4_frames/frame011.jpg', './data/debug/on7.mp4_frames/frame014.jpg', './data/debug/on7.mp4_frames/frame040.jpg', './data/debug/on7.mp4_frames/frame033.jpg', './data/debug/on7.mp4_frames/frame018.jpg', './data/debug/on7.mp4_frames/frame006.jpg', './data/debug/on7.mp4_frames/frame024.jpg', './data/debug/on7.mp4_frames/frame016.jpg', './data/debug/on7.mp4_frames/frame030.jpg', './data/debug/on7.mp4_frames/frame038.jpg', './data/debug/on7.mp4_frames/frame023.jpg', './data/debug/on7.mp4_frames/frame045.jpg', './data/debug/on7.mp4_frames/frame035.jpg', './data/debug/on7.mp4_frames/frame042.jpg', './data/debug/on7.mp4_frames/frame017.jpg', './data/debug/on7.mp4_frames/frame012.jpg', './data/debug/on7.mp4_frames/frame043.jpg', './data/debug/on7.mp4_frames/frame008.jpg', './data/debug/on7.mp4_frames/frame039.jpg', './data/debug/on7.mp4_frames/frame007.jpg', './data/debug/on7.mp4_frames/frame002.jpg', './data/debug/on7.mp4_frames/frame015.jpg', './data/debug/on7.mp4_frames/frame005.jpg', './data/debug/on7.mp4_frames/frame010.jpg', './data/debug/on7.mp4_frames/frame020.jpg', './data/debug/on7.mp4_frames/frame019.jpg', './data/debug/on7.mp4_frames/frame032.jpg', './data/debug/on7.mp4_frames/frame027.jpg', './data/debug/on7.mp4_frames/frame021.jpg']\n",
      "['./data/debug/on2.mp4_frames/frame003.jpg', './data/debug/on2.mp4_frames/frame026.jpg', './data/debug/on2.mp4_frames/frame029.jpg', './data/debug/on2.mp4_frames/frame013.jpg', './data/debug/on2.mp4_frames/frame004.jpg', './data/debug/on2.mp4_frames/frame001.jpg', './data/debug/on2.mp4_frames/frame009.jpg', './data/debug/on2.mp4_frames/frame028.jpg', './data/debug/on2.mp4_frames/frame025.jpg', './data/debug/on2.mp4_frames/frame022.jpg', './data/debug/on2.mp4_frames/frame011.jpg', './data/debug/on2.mp4_frames/frame014.jpg', './data/debug/on2.mp4_frames/frame018.jpg', './data/debug/on2.mp4_frames/frame006.jpg', './data/debug/on2.mp4_frames/frame024.jpg', './data/debug/on2.mp4_frames/frame016.jpg', './data/debug/on2.mp4_frames/frame030.jpg', './data/debug/on2.mp4_frames/frame023.jpg', './data/debug/on2.mp4_frames/frame017.jpg', './data/debug/on2.mp4_frames/frame012.jpg', './data/debug/on2.mp4_frames/frame008.jpg', './data/debug/on2.mp4_frames/frame007.jpg', './data/debug/on2.mp4_frames/frame002.jpg', './data/debug/on2.mp4_frames/frame015.jpg', './data/debug/on2.mp4_frames/frame005.jpg', './data/debug/on2.mp4_frames/frame010.jpg', './data/debug/on2.mp4_frames/frame020.jpg', './data/debug/on2.mp4_frames/frame019.jpg', './data/debug/on2.mp4_frames/frame027.jpg', './data/debug/on2.mp4_frames/frame021.jpg']\n",
      "['./data/debug/on1.mp4_frames/frame003.jpg', './data/debug/on1.mp4_frames/frame026.jpg', './data/debug/on1.mp4_frames/frame029.jpg', './data/debug/on1.mp4_frames/frame013.jpg', './data/debug/on1.mp4_frames/frame004.jpg', './data/debug/on1.mp4_frames/frame001.jpg', './data/debug/on1.mp4_frames/frame009.jpg', './data/debug/on1.mp4_frames/frame028.jpg', './data/debug/on1.mp4_frames/frame025.jpg', './data/debug/on1.mp4_frames/frame022.jpg', './data/debug/on1.mp4_frames/frame011.jpg', './data/debug/on1.mp4_frames/frame014.jpg', './data/debug/on1.mp4_frames/frame018.jpg', './data/debug/on1.mp4_frames/frame006.jpg', './data/debug/on1.mp4_frames/frame024.jpg', './data/debug/on1.mp4_frames/frame016.jpg', './data/debug/on1.mp4_frames/frame030.jpg', './data/debug/on1.mp4_frames/frame023.jpg', './data/debug/on1.mp4_frames/frame017.jpg', './data/debug/on1.mp4_frames/frame012.jpg', './data/debug/on1.mp4_frames/frame008.jpg', './data/debug/on1.mp4_frames/frame007.jpg', './data/debug/on1.mp4_frames/frame002.jpg', './data/debug/on1.mp4_frames/frame015.jpg', './data/debug/on1.mp4_frames/frame005.jpg', './data/debug/on1.mp4_frames/frame010.jpg', './data/debug/on1.mp4_frames/frame020.jpg', './data/debug/on1.mp4_frames/frame019.jpg', './data/debug/on1.mp4_frames/frame027.jpg', './data/debug/on1.mp4_frames/frame021.jpg']\n",
      "['./data/debug/on6.mp4_frames/frame003.jpg', './data/debug/on6.mp4_frames/frame026.jpg', './data/debug/on6.mp4_frames/frame013.jpg', './data/debug/on6.mp4_frames/frame004.jpg', './data/debug/on6.mp4_frames/frame001.jpg', './data/debug/on6.mp4_frames/frame009.jpg', './data/debug/on6.mp4_frames/frame025.jpg', './data/debug/on6.mp4_frames/frame022.jpg', './data/debug/on6.mp4_frames/frame011.jpg', './data/debug/on6.mp4_frames/frame014.jpg', './data/debug/on6.mp4_frames/frame018.jpg', './data/debug/on6.mp4_frames/frame006.jpg', './data/debug/on6.mp4_frames/frame024.jpg', './data/debug/on6.mp4_frames/frame016.jpg', './data/debug/on6.mp4_frames/frame023.jpg', './data/debug/on6.mp4_frames/frame017.jpg', './data/debug/on6.mp4_frames/frame012.jpg', './data/debug/on6.mp4_frames/frame008.jpg', './data/debug/on6.mp4_frames/frame007.jpg', './data/debug/on6.mp4_frames/frame002.jpg', './data/debug/on6.mp4_frames/frame015.jpg', './data/debug/on6.mp4_frames/frame005.jpg', './data/debug/on6.mp4_frames/frame010.jpg', './data/debug/on6.mp4_frames/frame020.jpg', './data/debug/on6.mp4_frames/frame019.jpg', './data/debug/on6.mp4_frames/frame027.jpg', './data/debug/on6.mp4_frames/frame021.jpg']\n",
      "['./data/debug/on5.mp4_frames/frame003.jpg', './data/debug/on5.mp4_frames/frame026.jpg', './data/debug/on5.mp4_frames/frame029.jpg', './data/debug/on5.mp4_frames/frame013.jpg', './data/debug/on5.mp4_frames/frame004.jpg', './data/debug/on5.mp4_frames/frame001.jpg', './data/debug/on5.mp4_frames/frame009.jpg', './data/debug/on5.mp4_frames/frame028.jpg', './data/debug/on5.mp4_frames/frame025.jpg', './data/debug/on5.mp4_frames/frame022.jpg', './data/debug/on5.mp4_frames/frame011.jpg', './data/debug/on5.mp4_frames/frame014.jpg', './data/debug/on5.mp4_frames/frame018.jpg', './data/debug/on5.mp4_frames/frame006.jpg', './data/debug/on5.mp4_frames/frame024.jpg', './data/debug/on5.mp4_frames/frame016.jpg', './data/debug/on5.mp4_frames/frame030.jpg', './data/debug/on5.mp4_frames/frame023.jpg', './data/debug/on5.mp4_frames/frame017.jpg', './data/debug/on5.mp4_frames/frame012.jpg', './data/debug/on5.mp4_frames/frame008.jpg', './data/debug/on5.mp4_frames/frame007.jpg', './data/debug/on5.mp4_frames/frame002.jpg', './data/debug/on5.mp4_frames/frame015.jpg', './data/debug/on5.mp4_frames/frame005.jpg', './data/debug/on5.mp4_frames/frame010.jpg', './data/debug/on5.mp4_frames/frame020.jpg', './data/debug/on5.mp4_frames/frame019.jpg', './data/debug/on5.mp4_frames/frame027.jpg', './data/debug/on5.mp4_frames/frame021.jpg']\n",
      "['./data/debug/on3.mp4_frames/frame003.jpg', './data/debug/on3.mp4_frames/frame026.jpg', './data/debug/on3.mp4_frames/frame029.jpg', './data/debug/on3.mp4_frames/frame013.jpg', './data/debug/on3.mp4_frames/frame004.jpg', './data/debug/on3.mp4_frames/frame001.jpg', './data/debug/on3.mp4_frames/frame009.jpg', './data/debug/on3.mp4_frames/frame028.jpg', './data/debug/on3.mp4_frames/frame025.jpg', './data/debug/on3.mp4_frames/frame022.jpg', './data/debug/on3.mp4_frames/frame011.jpg', './data/debug/on3.mp4_frames/frame014.jpg', './data/debug/on3.mp4_frames/frame018.jpg', './data/debug/on3.mp4_frames/frame006.jpg', './data/debug/on3.mp4_frames/frame024.jpg', './data/debug/on3.mp4_frames/frame016.jpg', './data/debug/on3.mp4_frames/frame030.jpg', './data/debug/on3.mp4_frames/frame023.jpg', './data/debug/on3.mp4_frames/frame017.jpg', './data/debug/on3.mp4_frames/frame012.jpg', './data/debug/on3.mp4_frames/frame008.jpg', './data/debug/on3.mp4_frames/frame007.jpg', './data/debug/on3.mp4_frames/frame002.jpg', './data/debug/on3.mp4_frames/frame015.jpg', './data/debug/on3.mp4_frames/frame005.jpg', './data/debug/on3.mp4_frames/frame010.jpg', './data/debug/on3.mp4_frames/frame020.jpg', './data/debug/on3.mp4_frames/frame019.jpg', './data/debug/on3.mp4_frames/frame027.jpg', './data/debug/on3.mp4_frames/frame021.jpg']\n"
     ]
    },
    {
     "ename": "NotADirectoryError",
     "evalue": "[Errno 20] Not a directory: './data/debug/.DS_Store'",
     "output_type": "error",
     "traceback": [
      "\u001b[0;31m---------------------------------------------------------------------------\u001b[0m",
      "\u001b[0;31mNotADirectoryError\u001b[0m                        Traceback (most recent call last)",
      "\u001b[0;32m<ipython-input-4-b5a88a7f5d83>\u001b[0m in \u001b[0;36m<module>\u001b[0;34m\u001b[0m\n\u001b[0;32m----> 1\u001b[0;31m \u001b[0mDatasetFromFolder\u001b[0m\u001b[0;34m(\u001b[0m\u001b[0mpath\u001b[0m\u001b[0;34m)\u001b[0m\u001b[0;34m\u001b[0m\u001b[0;34m\u001b[0m\u001b[0m\n\u001b[0m",
      "\u001b[0;32m~/bitcamp/bitcamp2019/dataset.py\u001b[0m in \u001b[0;36m__init__\u001b[0;34m(self, dir, transforms)\u001b[0m\n\u001b[1;32m     29\u001b[0m     \u001b[0;32mdef\u001b[0m \u001b[0m__init__\u001b[0m\u001b[0;34m(\u001b[0m\u001b[0mself\u001b[0m\u001b[0;34m,\u001b[0m \u001b[0mdir\u001b[0m\u001b[0;34m,\u001b[0m \u001b[0mtransforms\u001b[0m\u001b[0;34m=\u001b[0m\u001b[0;32mNone\u001b[0m\u001b[0;34m)\u001b[0m\u001b[0;34m:\u001b[0m\u001b[0;34m\u001b[0m\u001b[0;34m\u001b[0m\u001b[0m\n\u001b[1;32m     30\u001b[0m         \u001b[0msuper\u001b[0m\u001b[0;34m(\u001b[0m\u001b[0mDatasetFromFolder\u001b[0m\u001b[0;34m,\u001b[0m \u001b[0mself\u001b[0m\u001b[0;34m)\u001b[0m\u001b[0;34m.\u001b[0m\u001b[0m__init__\u001b[0m\u001b[0;34m(\u001b[0m\u001b[0;34m)\u001b[0m\u001b[0;34m\u001b[0m\u001b[0;34m\u001b[0m\u001b[0m\n\u001b[0;32m---> 31\u001b[0;31m         \u001b[0mself\u001b[0m\u001b[0;34m.\u001b[0m\u001b[0msigns\u001b[0m \u001b[0;34m=\u001b[0m \u001b[0mself\u001b[0m\u001b[0;34m.\u001b[0m\u001b[0mloadSignsDir\u001b[0m\u001b[0;34m(\u001b[0m\u001b[0mdir\u001b[0m\u001b[0;34m,\u001b[0m \u001b[0mtransforms\u001b[0m\u001b[0;34m)\u001b[0m\u001b[0;34m\u001b[0m\u001b[0;34m\u001b[0m\u001b[0m\n\u001b[0m\u001b[1;32m     32\u001b[0m         \u001b[0;31m# self.transforms = transforms\u001b[0m\u001b[0;34m\u001b[0m\u001b[0;34m\u001b[0m\u001b[0;34m\u001b[0m\u001b[0m\n\u001b[1;32m     33\u001b[0m \u001b[0;34m\u001b[0m\u001b[0m\n",
      "\u001b[0;32m~/bitcamp/bitcamp2019/dataset.py\u001b[0m in \u001b[0;36mloadSignsDir\u001b[0;34m(self, dir, transforms)\u001b[0m\n\u001b[1;32m     37\u001b[0m             \u001b[0msigndir\u001b[0m \u001b[0;34m=\u001b[0m \u001b[0mjoin\u001b[0m\u001b[0;34m(\u001b[0m\u001b[0mdir\u001b[0m\u001b[0;34m,\u001b[0m \u001b[0msigndir\u001b[0m\u001b[0;34m)\u001b[0m\u001b[0;34m\u001b[0m\u001b[0;34m\u001b[0m\u001b[0m\n\u001b[1;32m     38\u001b[0m             \u001b[0mlabel\u001b[0m \u001b[0;34m=\u001b[0m \u001b[0mdir\u001b[0m\u001b[0;34m.\u001b[0m\u001b[0msplit\u001b[0m\u001b[0;34m(\u001b[0m\u001b[0;34m'/'\u001b[0m\u001b[0;34m)\u001b[0m\u001b[0;34m[\u001b[0m\u001b[0;34m-\u001b[0m\u001b[0;36m2\u001b[0m\u001b[0;34m]\u001b[0m\u001b[0;34m\u001b[0m\u001b[0;34m\u001b[0m\u001b[0m\n\u001b[0;32m---> 39\u001b[0;31m             \u001b[0msigns\u001b[0m\u001b[0;34m.\u001b[0m\u001b[0mappend\u001b[0m\u001b[0;34m(\u001b[0m\u001b[0mSign\u001b[0m\u001b[0;34m(\u001b[0m\u001b[0msigndir\u001b[0m\u001b[0;34m,\u001b[0m \u001b[0mlabel\u001b[0m\u001b[0;34m,\u001b[0m \u001b[0mtransforms\u001b[0m\u001b[0;34m=\u001b[0m\u001b[0mtransforms\u001b[0m\u001b[0;34m)\u001b[0m\u001b[0;34m)\u001b[0m\u001b[0;34m\u001b[0m\u001b[0;34m\u001b[0m\u001b[0m\n\u001b[0m\u001b[1;32m     40\u001b[0m \u001b[0;34m\u001b[0m\u001b[0m\n\u001b[1;32m     41\u001b[0m         \u001b[0mprint\u001b[0m\u001b[0;34m(\u001b[0m\u001b[0msigns\u001b[0m\u001b[0;34m)\u001b[0m\u001b[0;34m\u001b[0m\u001b[0;34m\u001b[0m\u001b[0m\n",
      "\u001b[0;32m~/bitcamp/bitcamp2019/dataset.py\u001b[0m in \u001b[0;36m__init__\u001b[0;34m(self, signdir, label, transforms)\u001b[0m\n\u001b[1;32m     18\u001b[0m \u001b[0;34m\u001b[0m\u001b[0m\n\u001b[1;32m     19\u001b[0m     \u001b[0;32mdef\u001b[0m \u001b[0m__init__\u001b[0m\u001b[0;34m(\u001b[0m\u001b[0mself\u001b[0m\u001b[0;34m,\u001b[0m \u001b[0msigndir\u001b[0m\u001b[0;34m,\u001b[0m \u001b[0mlabel\u001b[0m\u001b[0;34m,\u001b[0m \u001b[0mtransforms\u001b[0m\u001b[0;34m=\u001b[0m\u001b[0;32mNone\u001b[0m\u001b[0;34m)\u001b[0m\u001b[0;34m:\u001b[0m\u001b[0;34m\u001b[0m\u001b[0;34m\u001b[0m\u001b[0m\n\u001b[0;32m---> 20\u001b[0;31m         \u001b[0mself\u001b[0m\u001b[0;34m.\u001b[0m\u001b[0mfilenames\u001b[0m \u001b[0;34m=\u001b[0m \u001b[0;34m[\u001b[0m\u001b[0mjoin\u001b[0m\u001b[0;34m(\u001b[0m\u001b[0msigndir\u001b[0m\u001b[0;34m,\u001b[0m \u001b[0mx\u001b[0m\u001b[0;34m)\u001b[0m \u001b[0;32mfor\u001b[0m \u001b[0mx\u001b[0m \u001b[0;32min\u001b[0m \u001b[0mlistdir\u001b[0m\u001b[0;34m(\u001b[0m\u001b[0msigndir\u001b[0m\u001b[0;34m)\u001b[0m \u001b[0;32mif\u001b[0m \u001b[0mis_image_file\u001b[0m\u001b[0;34m(\u001b[0m\u001b[0mx\u001b[0m\u001b[0;34m)\u001b[0m\u001b[0;34m]\u001b[0m\u001b[0;34m\u001b[0m\u001b[0;34m\u001b[0m\u001b[0m\n\u001b[0m\u001b[1;32m     21\u001b[0m         \u001b[0mprint\u001b[0m\u001b[0;34m(\u001b[0m\u001b[0mself\u001b[0m\u001b[0;34m.\u001b[0m\u001b[0mfilenames\u001b[0m\u001b[0;34m)\u001b[0m\u001b[0;34m\u001b[0m\u001b[0;34m\u001b[0m\u001b[0m\n\u001b[1;32m     22\u001b[0m         \u001b[0mself\u001b[0m\u001b[0;34m.\u001b[0m \u001b[0mlabel\u001b[0m \u001b[0;34m=\u001b[0m \u001b[0mlabel\u001b[0m\u001b[0;34m\u001b[0m\u001b[0;34m\u001b[0m\u001b[0m\n",
      "\u001b[0;31mNotADirectoryError\u001b[0m: [Errno 20] Not a directory: './data/debug/.DS_Store'"
     ]
    }
   ],
   "source": [
    "DatasetFromFolder(path)"
   ]
  },
  {
   "cell_type": "code",
   "execution_count": null,
   "metadata": {},
   "outputs": [],
   "source": []
  },
  {
   "cell_type": "code",
   "execution_count": null,
   "metadata": {},
   "outputs": [],
   "source": []
  }
 ],
 "metadata": {
  "kernelspec": {
   "display_name": "Python deeplearning",
   "language": "python",
   "name": "myenv"
  },
  "language_info": {
   "codemirror_mode": {
    "name": "ipython",
    "version": 3
   },
   "file_extension": ".py",
   "mimetype": "text/x-python",
   "name": "python",
   "nbconvert_exporter": "python",
   "pygments_lexer": "ipython3",
   "version": "3.6.8"
  }
 },
 "nbformat": 4,
 "nbformat_minor": 2
}
