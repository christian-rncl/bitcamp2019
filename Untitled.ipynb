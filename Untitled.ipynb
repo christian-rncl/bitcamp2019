{
 "cells": [
  {
   "cell_type": "code",
   "execution_count": 1,
   "metadata": {},
   "outputs": [],
   "source": [
    "import pandas as pd\n",
    "import torch\n",
    "import os\n",
    "from dataset import DatasetFromFolder"
   ]
  },
  {
   "cell_type": "code",
   "execution_count": 2,
   "metadata": {},
   "outputs": [],
   "source": [
    "path = './data/debug/'"
   ]
  },
  {
   "cell_type": "code",
   "execution_count": 3,
   "metadata": {},
   "outputs": [
    {
     "data": {
      "text/plain": [
       "['on7.mp4_frames',\n",
       " 'on2.mp4_frames',\n",
       " 'on1.mp4_frames',\n",
       " 'on6.mp4_frames',\n",
       " 'on5.mp4_frames',\n",
       " 'on3.mp4_frames',\n",
       " 'on4.mp4_frames']"
      ]
     },
     "execution_count": 3,
     "metadata": {},
     "output_type": "execute_result"
    }
   ],
   "source": [
    "os.listdir(path)"
   ]
  },
  {
   "cell_type": "code",
   "execution_count": 4,
   "metadata": {},
   "outputs": [],
   "source": [
    "dset = DatasetFromFolder(path)"
   ]
  },
  {
   "cell_type": "code",
   "execution_count": 6,
   "metadata": {},
   "outputs": [
    {
     "data": {
      "text/plain": [
       "([<PIL.Image.Image image mode=L size=1080x1920 at 0x7FD7C50B7A20>,\n",
       "  <PIL.Image.Image image mode=L size=1080x1920 at 0x7FD7C50BC940>,\n",
       "  <PIL.Image.Image image mode=L size=1080x1920 at 0x7FD7C50BC978>,\n",
       "  <PIL.Image.Image image mode=L size=1080x1920 at 0x7FD7C50BCD30>,\n",
       "  <PIL.Image.Image image mode=L size=1080x1920 at 0x7FD7C50BCD68>,\n",
       "  <PIL.Image.Image image mode=L size=1080x1920 at 0x7FD7C50BCDA0>,\n",
       "  <PIL.Image.Image image mode=L size=1080x1920 at 0x7FD7C50BCDD8>,\n",
       "  <PIL.Image.Image image mode=L size=1080x1920 at 0x7FD7C50BCE10>,\n",
       "  <PIL.Image.Image image mode=L size=1080x1920 at 0x7FD7C50BCE48>,\n",
       "  <PIL.Image.Image image mode=L size=1080x1920 at 0x7FD7C50BCE80>,\n",
       "  <PIL.Image.Image image mode=L size=1080x1920 at 0x7FD7C50BCEB8>,\n",
       "  <PIL.Image.Image image mode=L size=1080x1920 at 0x7FD7C50BCEF0>,\n",
       "  <PIL.Image.Image image mode=L size=1080x1920 at 0x7FD7C50BCF28>,\n",
       "  <PIL.Image.Image image mode=L size=1080x1920 at 0x7FD7C50BCF60>,\n",
       "  <PIL.Image.Image image mode=L size=1080x1920 at 0x7FD7C50BCF98>,\n",
       "  <PIL.Image.Image image mode=L size=1080x1920 at 0x7FD7C5FB6748>,\n",
       "  <PIL.Image.Image image mode=L size=1080x1920 at 0x7FD7C5FB6668>,\n",
       "  <PIL.Image.Image image mode=L size=1080x1920 at 0x7FD7C50CA048>,\n",
       "  <PIL.Image.Image image mode=L size=1080x1920 at 0x7FD7C50CA0B8>,\n",
       "  <PIL.Image.Image image mode=L size=1080x1920 at 0x7FD7C50CA0F0>,\n",
       "  <PIL.Image.Image image mode=L size=1080x1920 at 0x7FD7C50CA128>,\n",
       "  <PIL.Image.Image image mode=L size=1080x1920 at 0x7FD7C50CA160>,\n",
       "  <PIL.Image.Image image mode=L size=1080x1920 at 0x7FD7C50CA198>,\n",
       "  <PIL.Image.Image image mode=L size=1080x1920 at 0x7FD7C50CA1D0>,\n",
       "  <PIL.Image.Image image mode=L size=1080x1920 at 0x7FD7C50CA208>,\n",
       "  <PIL.Image.Image image mode=L size=1080x1920 at 0x7FD7C50CA240>,\n",
       "  <PIL.Image.Image image mode=L size=1080x1920 at 0x7FD7C50CA278>,\n",
       "  <PIL.Image.Image image mode=L size=1080x1920 at 0x7FD7C50CA2B0>,\n",
       "  <PIL.Image.Image image mode=L size=1080x1920 at 0x7FD7C50CA2E8>,\n",
       "  <PIL.Image.Image image mode=L size=1080x1920 at 0x7FD7C50CA320>,\n",
       "  <PIL.Image.Image image mode=L size=1080x1920 at 0x7FD7C50CA358>,\n",
       "  <PIL.Image.Image image mode=L size=1080x1920 at 0x7FD7C50CA390>,\n",
       "  <PIL.Image.Image image mode=L size=1080x1920 at 0x7FD7C50CA3C8>,\n",
       "  <PIL.Image.Image image mode=L size=1080x1920 at 0x7FD7C50CA400>,\n",
       "  <PIL.Image.Image image mode=L size=1080x1920 at 0x7FD7C50CA438>,\n",
       "  <PIL.Image.Image image mode=L size=1080x1920 at 0x7FD7C50CA470>,\n",
       "  <PIL.Image.Image image mode=L size=1080x1920 at 0x7FD7C50CA4A8>,\n",
       "  <PIL.Image.Image image mode=L size=1080x1920 at 0x7FD7C50CA4E0>,\n",
       "  <PIL.Image.Image image mode=L size=1080x1920 at 0x7FD7C50CA518>,\n",
       "  <PIL.Image.Image image mode=L size=1080x1920 at 0x7FD7C50CA550>,\n",
       "  <PIL.Image.Image image mode=L size=1080x1920 at 0x7FD7C50CA588>,\n",
       "  <PIL.Image.Image image mode=L size=1080x1920 at 0x7FD7C50CA5C0>,\n",
       "  <PIL.Image.Image image mode=L size=1080x1920 at 0x7FD7C50CA5F8>,\n",
       "  <PIL.Image.Image image mode=L size=1080x1920 at 0x7FD7C50CA630>,\n",
       "  <PIL.Image.Image image mode=L size=1080x1920 at 0x7FD7C50CA668>,\n",
       "  <PIL.Image.Image image mode=L size=1080x1920 at 0x7FD7C50CA6A0>,\n",
       "  <PIL.Image.Image image mode=L size=1080x1920 at 0x7FD7C50CA6D8>,\n",
       "  <PIL.Image.Image image mode=L size=1080x1920 at 0x7FD7C50CA710>,\n",
       "  <PIL.Image.Image image mode=L size=1080x1920 at 0x7FD7C50CA748>,\n",
       "  <PIL.Image.Image image mode=L size=1080x1920 at 0x7FD7C50CA780>,\n",
       "  <PIL.Image.Image image mode=L size=1080x1920 at 0x7FD7C50CA7B8>,\n",
       "  <PIL.Image.Image image mode=L size=1080x1920 at 0x7FD7C50CA7F0>,\n",
       "  <PIL.Image.Image image mode=L size=1080x1920 at 0x7FD7C50CA828>,\n",
       "  <PIL.Image.Image image mode=L size=1080x1920 at 0x7FD7C50CA860>,\n",
       "  <PIL.Image.Image image mode=L size=1080x1920 at 0x7FD7C50CA898>,\n",
       "  <PIL.Image.Image image mode=L size=1080x1920 at 0x7FD7C50CA8D0>,\n",
       "  <PIL.Image.Image image mode=L size=1080x1920 at 0x7FD7C50CA908>,\n",
       "  <PIL.Image.Image image mode=L size=1080x1920 at 0x7FD7C50CA940>,\n",
       "  <PIL.Image.Image image mode=L size=1080x1920 at 0x7FD7C50CA978>,\n",
       "  <PIL.Image.Image image mode=L size=1080x1920 at 0x7FD7C50CA9B0>,\n",
       "  <PIL.Image.Image image mode=L size=1080x1920 at 0x7FD7C50CA9E8>,\n",
       "  <PIL.Image.Image image mode=L size=1080x1920 at 0x7FD7C50CAA20>,\n",
       "  <PIL.Image.Image image mode=L size=1080x1920 at 0x7FD7C50CAA58>,\n",
       "  <PIL.Image.Image image mode=L size=1080x1920 at 0x7FD7C50CAA90>,\n",
       "  <PIL.Image.Image image mode=L size=1080x1920 at 0x7FD7C50CAAC8>,\n",
       "  <PIL.Image.Image image mode=L size=1080x1920 at 0x7FD7C50CAB00>,\n",
       "  <PIL.Image.Image image mode=L size=1080x1920 at 0x7FD7C50CAB38>,\n",
       "  <PIL.Image.Image image mode=L size=1080x1920 at 0x7FD7C50CAB70>,\n",
       "  <PIL.Image.Image image mode=L size=1080x1920 at 0x7FD7C50CABA8>,\n",
       "  <PIL.Image.Image image mode=L size=1080x1920 at 0x7FD7C50CABE0>,\n",
       "  <PIL.Image.Image image mode=L size=1080x1920 at 0x7FD7C50CAC18>,\n",
       "  <PIL.Image.Image image mode=L size=1080x1920 at 0x7FD7C50CAC50>,\n",
       "  <PIL.Image.Image image mode=L size=1080x1920 at 0x7FD7C50CAC88>,\n",
       "  <PIL.Image.Image image mode=L size=1080x1920 at 0x7FD7C50CACC0>,\n",
       "  <PIL.Image.Image image mode=L size=1080x1920 at 0x7FD7C50CACF8>,\n",
       "  <PIL.Image.Image image mode=L size=1080x1920 at 0x7FD7C50CAD30>,\n",
       "  <PIL.Image.Image image mode=L size=1080x1920 at 0x7FD7C50CAD68>,\n",
       "  <PIL.Image.Image image mode=L size=1080x1920 at 0x7FD7C50CADA0>,\n",
       "  <PIL.Image.Image image mode=L size=1080x1920 at 0x7FD7C50CADD8>,\n",
       "  <PIL.Image.Image image mode=L size=1080x1920 at 0x7FD7C50CAE10>,\n",
       "  <PIL.Image.Image image mode=L size=1080x1920 at 0x7FD7C50CAE48>,\n",
       "  <PIL.Image.Image image mode=L size=1080x1920 at 0x7FD7C50CAE80>,\n",
       "  <PIL.Image.Image image mode=L size=1080x1920 at 0x7FD7C50CAEB8>,\n",
       "  <PIL.Image.Image image mode=L size=1080x1920 at 0x7FD7C50CAEF0>,\n",
       "  <PIL.Image.Image image mode=L size=1080x1920 at 0x7FD7C50CAF28>,\n",
       "  <PIL.Image.Image image mode=L size=1080x1920 at 0x7FD7C50CAF60>,\n",
       "  <PIL.Image.Image image mode=L size=1080x1920 at 0x7FD7C50CAF98>,\n",
       "  <PIL.Image.Image image mode=L size=1080x1920 at 0x7FD7C5FB66A0>,\n",
       "  <PIL.Image.Image image mode=L size=1080x1920 at 0x7FD7C50CA080>,\n",
       "  <PIL.Image.Image image mode=L size=1080x1920 at 0x7FD7C50D9048>],\n",
       " 'debug')"
      ]
     },
     "execution_count": 6,
     "metadata": {},
     "output_type": "execute_result"
    }
   ],
   "source": []
  },
  {
   "cell_type": "code",
   "execution_count": null,
   "metadata": {},
   "outputs": [],
   "source": []
  }
 ],
 "metadata": {
  "kernelspec": {
   "display_name": "Python deeplearning",
   "language": "python",
   "name": "myenv"
  },
  "language_info": {
   "codemirror_mode": {
    "name": "ipython",
    "version": 3
   },
   "file_extension": ".py",
   "mimetype": "text/x-python",
   "name": "python",
   "nbconvert_exporter": "python",
   "pygments_lexer": "ipython3",
   "version": "3.6.8"
  }
 },
 "nbformat": 4,
 "nbformat_minor": 2
}
