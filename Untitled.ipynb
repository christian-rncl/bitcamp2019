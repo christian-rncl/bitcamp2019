{
 "cells": [
  {
   "cell_type": "code",
   "execution_count": 17,
   "metadata": {},
   "outputs": [],
   "source": [
    "import pandas as pd\n",
    "import torch\n",
    "import os\n",
    "from dataset import DatasetFromFolder, Sign\n",
    "from torch.utils.data import TensorDataset, DataLoader"
   ]
  },
  {
   "cell_type": "code",
   "execution_count": 18,
   "metadata": {},
   "outputs": [],
   "source": [
    "path = './data/debug/'"
   ]
  },
  {
   "cell_type": "code",
   "execution_count": 19,
   "metadata": {},
   "outputs": [
    {
     "data": {
      "text/plain": [
       "['on7.mp4_frames',\n",
       " 'on2.mp4_frames',\n",
       " 'on1.mp4_frames',\n",
       " 'on6.mp4_frames',\n",
       " 'on5.mp4_frames',\n",
       " 'on3.mp4_frames',\n",
       " 'on4.mp4_frames']"
      ]
     },
     "execution_count": 19,
     "metadata": {},
     "output_type": "execute_result"
    }
   ],
   "source": [
    "os.listdir(path)"
   ]
  },
  {
   "cell_type": "code",
   "execution_count": 20,
   "metadata": {},
   "outputs": [],
   "source": [
    "sign = Sign(f'{path}on1.mp4_frames', 'on').get_sign()"
   ]
  },
  {
   "cell_type": "code",
   "execution_count": 21,
   "metadata": {},
   "outputs": [
    {
     "data": {
      "text/plain": [
       "([<PIL.Image.Image image mode=L size=1080x1920 at 0x7F78581A1B38>,\n",
       "  <PIL.Image.Image image mode=L size=1080x1920 at 0x7F78581AAA58>,\n",
       "  <PIL.Image.Image image mode=L size=1080x1920 at 0x7F78581AAA90>,\n",
       "  <PIL.Image.Image image mode=L size=1080x1920 at 0x7F78581AAE48>,\n",
       "  <PIL.Image.Image image mode=L size=1080x1920 at 0x7F78581AAE80>,\n",
       "  <PIL.Image.Image image mode=L size=1080x1920 at 0x7F78581AAEB8>,\n",
       "  <PIL.Image.Image image mode=L size=1080x1920 at 0x7F78581AAEF0>,\n",
       "  <PIL.Image.Image image mode=L size=1080x1920 at 0x7F78581AAF28>,\n",
       "  <PIL.Image.Image image mode=L size=1080x1920 at 0x7F78581AAF60>,\n",
       "  <PIL.Image.Image image mode=L size=1080x1920 at 0x7F78581AAF98>,\n",
       "  <PIL.Image.Image image mode=L size=1080x1920 at 0x7F78590EA898>,\n",
       "  <PIL.Image.Image image mode=L size=1080x1920 at 0x7F78581AA630>,\n",
       "  <PIL.Image.Image image mode=L size=1080x1920 at 0x7F78581B7080>,\n",
       "  <PIL.Image.Image image mode=L size=1080x1920 at 0x7F78581B70B8>,\n",
       "  <PIL.Image.Image image mode=L size=1080x1920 at 0x7F78581B70F0>,\n",
       "  <PIL.Image.Image image mode=L size=1080x1920 at 0x7F78581B7128>,\n",
       "  <PIL.Image.Image image mode=L size=1080x1920 at 0x7F78581B7160>,\n",
       "  <PIL.Image.Image image mode=L size=1080x1920 at 0x7F78581B7198>,\n",
       "  <PIL.Image.Image image mode=L size=1080x1920 at 0x7F78581B71D0>,\n",
       "  <PIL.Image.Image image mode=L size=1080x1920 at 0x7F78581B7208>,\n",
       "  <PIL.Image.Image image mode=L size=1080x1920 at 0x7F78581B7240>,\n",
       "  <PIL.Image.Image image mode=L size=1080x1920 at 0x7F78581B7278>,\n",
       "  <PIL.Image.Image image mode=L size=1080x1920 at 0x7F78581B72B0>,\n",
       "  <PIL.Image.Image image mode=L size=1080x1920 at 0x7F78581B72E8>,\n",
       "  <PIL.Image.Image image mode=L size=1080x1920 at 0x7F78581B7320>,\n",
       "  <PIL.Image.Image image mode=L size=1080x1920 at 0x7F78581B7358>,\n",
       "  <PIL.Image.Image image mode=L size=1080x1920 at 0x7F78581B7390>,\n",
       "  <PIL.Image.Image image mode=L size=1080x1920 at 0x7F78581B73C8>,\n",
       "  <PIL.Image.Image image mode=L size=1080x1920 at 0x7F78581B7400>,\n",
       "  <PIL.Image.Image image mode=L size=1080x1920 at 0x7F78581B7438>,\n",
       "  <PIL.Image.Image image mode=L size=1080x1920 at 0x7F78581B7470>,\n",
       "  <PIL.Image.Image image mode=L size=1080x1920 at 0x7F78581B74A8>,\n",
       "  <PIL.Image.Image image mode=L size=1080x1920 at 0x7F78581B74E0>,\n",
       "  <PIL.Image.Image image mode=L size=1080x1920 at 0x7F78581B7518>,\n",
       "  <PIL.Image.Image image mode=L size=1080x1920 at 0x7F78581B7550>,\n",
       "  <PIL.Image.Image image mode=L size=1080x1920 at 0x7F78581B7588>,\n",
       "  <PIL.Image.Image image mode=L size=1080x1920 at 0x7F78581B75C0>,\n",
       "  <PIL.Image.Image image mode=L size=1080x1920 at 0x7F78581B75F8>,\n",
       "  <PIL.Image.Image image mode=L size=1080x1920 at 0x7F78581B7630>,\n",
       "  <PIL.Image.Image image mode=L size=1080x1920 at 0x7F78581B7668>,\n",
       "  <PIL.Image.Image image mode=L size=1080x1920 at 0x7F78581B76A0>,\n",
       "  <PIL.Image.Image image mode=L size=1080x1920 at 0x7F78581B76D8>,\n",
       "  <PIL.Image.Image image mode=L size=1080x1920 at 0x7F78581B7710>,\n",
       "  <PIL.Image.Image image mode=L size=1080x1920 at 0x7F78581B7748>,\n",
       "  <PIL.Image.Image image mode=L size=1080x1920 at 0x7F78581B7780>,\n",
       "  <PIL.Image.Image image mode=L size=1080x1920 at 0x7F78581B77B8>,\n",
       "  <PIL.Image.Image image mode=L size=1080x1920 at 0x7F78581B77F0>,\n",
       "  <PIL.Image.Image image mode=L size=1080x1920 at 0x7F78581B7828>,\n",
       "  <PIL.Image.Image image mode=L size=1080x1920 at 0x7F78581B7860>,\n",
       "  <PIL.Image.Image image mode=L size=1080x1920 at 0x7F78581B7898>,\n",
       "  <PIL.Image.Image image mode=L size=1080x1920 at 0x7F78581B78D0>,\n",
       "  <PIL.Image.Image image mode=L size=1080x1920 at 0x7F78581B7908>,\n",
       "  <PIL.Image.Image image mode=L size=1080x1920 at 0x7F78581B7940>,\n",
       "  <PIL.Image.Image image mode=L size=1080x1920 at 0x7F78581B7978>,\n",
       "  <PIL.Image.Image image mode=L size=1080x1920 at 0x7F78581B79B0>,\n",
       "  <PIL.Image.Image image mode=L size=1080x1920 at 0x7F78581B79E8>,\n",
       "  <PIL.Image.Image image mode=L size=1080x1920 at 0x7F78581B7A20>,\n",
       "  <PIL.Image.Image image mode=L size=1080x1920 at 0x7F78581B7A58>,\n",
       "  <PIL.Image.Image image mode=L size=1080x1920 at 0x7F78581B7A90>,\n",
       "  <PIL.Image.Image image mode=L size=1080x1920 at 0x7F78581B7AC8>],\n",
       " 'on')"
      ]
     },
     "execution_count": 21,
     "metadata": {},
     "output_type": "execute_result"
    }
   ],
   "source": [
    "signs"
   ]
  },
  {
   "cell_type": "code",
   "execution_count": 22,
   "metadata": {},
   "outputs": [
    {
     "data": {
      "text/plain": [
       "<torch.utils.data.dataset.TensorDataset at 0x7f7857eaac50>"
      ]
     },
     "execution_count": 22,
     "metadata": {},
     "output_type": "execute_result"
    }
   ],
   "source": [
    "TensorDataset()"
   ]
  },
  {
   "cell_type": "code",
   "execution_count": 23,
   "metadata": {},
   "outputs": [
    {
     "data": {
      "text/plain": [
       "<torch.utils.data.dataloader.DataLoader at 0x7f7857eaae10>"
      ]
     },
     "execution_count": 23,
     "metadata": {},
     "output_type": "execute_result"
    }
   ],
   "source": [
    "DataLoader(TensorDataset())"
   ]
  },
  {
   "cell_type": "code",
   "execution_count": null,
   "metadata": {},
   "outputs": [],
   "source": []
  }
 ],
 "metadata": {
  "kernelspec": {
   "display_name": "Python deeplearning",
   "language": "python",
   "name": "myenv"
  },
  "language_info": {
   "codemirror_mode": {
    "name": "ipython",
    "version": 3
   },
   "file_extension": ".py",
   "mimetype": "text/x-python",
   "name": "python",
   "nbconvert_exporter": "python",
   "pygments_lexer": "ipython3",
   "version": "3.6.8"
  }
 },
 "nbformat": 4,
 "nbformat_minor": 2
}
