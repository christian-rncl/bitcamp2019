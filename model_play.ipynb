{
 "cells": [
  {
   "cell_type": "code",
   "execution_count": 1,
   "metadata": {},
   "outputs": [],
   "source": [
    "import os\n",
    "from model import *\n",
    "import numpy as np\n",
    "import torch"
   ]
  },
  {
   "cell_type": "code",
   "execution_count": 2,
   "metadata": {},
   "outputs": [],
   "source": [
    "n_in = 201\n",
    "enc_h = 1024\n",
    "rnn_h = 2056\n",
    "n_classes = 2\n",
    "n_rnnlayers = 2\n",
    "n_signs = 2"
   ]
  },
  {
   "cell_type": "code",
   "execution_count": 3,
   "metadata": {},
   "outputs": [
    {
     "name": "stdout",
     "output_type": "stream",
     "text": [
      "2056\n"
     ]
    }
   ],
   "source": [
    "net = getModel(n_in, enc_h, rnn_h, n_rnnlayers, n_signs)"
   ]
  },
  {
   "cell_type": "code",
   "execution_count": 5,
   "metadata": {},
   "outputs": [
    {
     "data": {
      "text/plain": [
       "Sequential(\n",
       "  (0): Linear(in_features=201, out_features=1024, bias=True)\n",
       "  (1): BatchNorm1d(1024, eps=1e-05, momentum=0.1, affine=True, track_running_stats=True)\n",
       "  (2): ReLU()\n",
       "  (3): Dropout(p=0.2)\n",
       "  (4): GRU(1024, 2056, num_layers=2, dropout=0.2)\n",
       "  (5): Linear(in_features=2056, out_features=2, bias=True)\n",
       "  (6): BatchNorm1d(2056, eps=1e-05, momentum=0.1, affine=True, track_running_stats=True)\n",
       "  (7): Sigmoid()\n",
       ")"
      ]
     },
     "execution_count": 5,
     "metadata": {},
     "output_type": "execute_result"
    }
   ],
   "source": [
    "net.cuda()"
   ]
  },
  {
   "cell_type": "code",
   "execution_count": 8,
   "metadata": {},
   "outputs": [],
   "source": [
    "path = './data/debug/on1.mp4_frames/'"
   ]
  },
  {
   "cell_type": "code",
   "execution_count": 12,
   "metadata": {},
   "outputs": [
    {
     "data": {
      "text/plain": [
       "['frame011.jpg',\n",
       " 'frame023.jpg.txt',\n",
       " 'frame027.jpg.txt',\n",
       " 'frame010.jpg',\n",
       " 'frame018.jpg',\n",
       " 'frame009.jpg.txt',\n",
       " 'frame003.jpg',\n",
       " 'frame030.jpg',\n",
       " 'frame026.jpg.txt',\n",
       " 'frame021.jpg',\n",
       " 'frame002.jpg.txt',\n",
       " 'frame016.jpg',\n",
       " 'frame028.jpg.txt',\n",
       " 'frame006.jpg',\n",
       " 'frame003.jpg.txt',\n",
       " 'frame004.jpg',\n",
       " 'frame005.jpg',\n",
       " 'frame012.jpg',\n",
       " 'frame009.jpg',\n",
       " 'frame013.jpg',\n",
       " 'frame018.jpg.txt',\n",
       " 'frame008.jpg.txt',\n",
       " 'frame020.jpg.txt',\n",
       " 'frame011.jpg.txt',\n",
       " 'frame025.jpg',\n",
       " 'frame001.jpg',\n",
       " 'frame022.jpg.txt',\n",
       " 'frame023.jpg',\n",
       " 'frame024.jpg',\n",
       " 'frame017.jpg',\n",
       " 'frame019.jpg',\n",
       " 'frame008.jpg',\n",
       " 'frame017.jpg.txt',\n",
       " 'frame026.jpg',\n",
       " 'frame020.jpg',\n",
       " 'frame013.jpg.txt',\n",
       " 'frame005.jpg.txt',\n",
       " 'frame016.jpg.txt',\n",
       " 'frame022.jpg',\n",
       " 'frame014.jpg',\n",
       " 'frame029.jpg',\n",
       " 'frame024.jpg.txt',\n",
       " 'frame007.jpg.txt',\n",
       " 'frame028.jpg',\n",
       " 'frame015.jpg',\n",
       " 'frame029.jpg.txt',\n",
       " 'frame021.jpg.txt',\n",
       " 'frame025.jpg.txt',\n",
       " 'frame012.jpg.txt',\n",
       " 'frame004.jpg.txt',\n",
       " 'frame002.jpg',\n",
       " 'frame007.jpg',\n",
       " 'frame015.jpg.txt',\n",
       " 'frame027.jpg',\n",
       " 'frame030.jpg.txt',\n",
       " 'frame006.jpg.txt',\n",
       " 'frame001.jpg.txt',\n",
       " 'frame010.jpg.txt',\n",
       " 'frame014.jpg.txt',\n",
       " 'frame019.jpg.txt']"
      ]
     },
     "execution_count": 12,
     "metadata": {},
     "output_type": "execute_result"
    }
   ],
   "source": [
    "txtfiles = []"
   ]
  },
  {
   "cell_type": "code",
   "execution_count": null,
   "metadata": {},
   "outputs": [],
   "source": []
  }
 ],
 "metadata": {
  "kernelspec": {
   "display_name": "Python 3",
   "language": "python",
   "name": "python3"
  },
  "language_info": {
   "codemirror_mode": {
    "name": "ipython",
    "version": 3
   },
   "file_extension": ".py",
   "mimetype": "text/x-python",
   "name": "python",
   "nbconvert_exporter": "python",
   "pygments_lexer": "ipython3",
   "version": "3.7.3"
  }
 },
 "nbformat": 4,
 "nbformat_minor": 2
}
